{
 "cells": [
  {
   "cell_type": "code",
   "execution_count": 2,
   "id": "7b465730-162a-493a-8cb1-02e019ee9136",
   "metadata": {},
   "outputs": [],
   "source": [
    "### Get all scripts\n",
    "import os\n",
    "txt_files = []\n",
    "def traverse_directory(path):\n",
    "    files = os.listdir(path)\n",
    "    for sf in files:\n",
    "        f = os.path.join(path, sf) \n",
    "        if os.path.isdir(f):\n",
    "            traverse_directory(f)\n",
    "        else:\n",
    "            if sf.endswith('.txt'):\n",
    "                txt_files.append(f)\n",
    "traverse_directory(\"scripts/\")"
   ]
  },
  {
   "cell_type": "code",
   "execution_count": 3,
   "id": "523e1efb-4575-4980-9137-d69f3d313ec1",
   "metadata": {},
   "outputs": [],
   "source": [
    "# Preprocess \n",
    "# filter sequences of moves (X,Y)\n",
    "import re\n",
    "import numpy as np\n",
    "import itertools\n",
    "regex = r\"\\([^()]*?,[^)]*\\)\"\n",
    "\n",
    "SEQUENCE_LEN = 3 #### number of prior moves\n",
    "input_dim = 2 #### 2 is (X,Y) if 3 is (X,Y,Z)\n",
    "\n",
    "moves = []\n",
    "for txt in txt_files:\n",
    "    with open(txt, encoding='utf-8',errors='ignore') as f:\n",
    "        lines = f.readlines()\n",
    "    coords = []\n",
    "    for line in lines:\n",
    "        if \"Print\" in line or \"begin\" == line.strip():\n",
    "            continue\n",
    "        coord = re.findall(regex, line)\n",
    "        if len(coord):\n",
    "            if len(coord[0].split(\",\"))<input_dim+1:\n",
    "                coord = []\n",
    "        if len(coord):\n",
    "            if(re.search(r\"[a-zA-Z]\", coord[0])==None):\n",
    "                coords.append(coord[0].replace('(','').replace(')','').split(',')[:input_dim])\n",
    "        else: coords.append(coord)\n",
    "    out,seg = [],[]\n",
    "    for coord in coords:\n",
    "        if len(coord): seg.append(coord)\n",
    "        else:\n",
    "            if len(seg)>=SEQUENCE_LEN:\n",
    "                out.append([seg[0],seg[0]]+seg)\n",
    "            seg=[]\n",
    "    if len(out)>=SEQUENCE_LEN: moves+= out"
   ]
  },
  {
   "cell_type": "code",
   "execution_count": 4,
   "id": "960b4337-0290-45a0-8665-484d1346c870",
   "metadata": {
    "scrolled": true
   },
   "outputs": [],
   "source": [
    "# Format moves\n",
    "movesets = []\n",
    "next_movesets = []\n",
    "for move_idx, move in enumerate(moves):\n",
    "    move = move + [move[-1]]\n",
    "    for i in range(0, len(move) - SEQUENCE_LEN):\n",
    "        movesets.append(move[i: i + SEQUENCE_LEN])\n",
    "        next_movesets.append(move[i + SEQUENCE_LEN])\n",
    "\n",
    "# replicate more moves to improve accuracy\n",
    "movesets=movesets+movesets+movesets\n",
    "next_movesets=next_movesets+next_movesets+next_movesets"
   ]
  },
  {
   "cell_type": "code",
   "execution_count": 5,
   "id": "cc276f30-b035-437b-9a3e-b655c5957c73",
   "metadata": {
    "scrolled": true
   },
   "outputs": [],
   "source": [
    "from keras.callbacks import LambdaCallback, ModelCheckpoint, EarlyStopping\n",
    "from keras.models import Sequential\n",
    "from keras.layers import Dense, Dropout, Activation, LSTM, Bidirectional, Embedding"
   ]
  },
  {
   "cell_type": "code",
   "execution_count": 12,
   "id": "8f67fa90-bb24-4df3-9755-ee28fd41170c",
   "metadata": {},
   "outputs": [],
   "source": [
    "def generator(moveset_list, next_moveset_list, batch_size):\n",
    "    index = 0\n",
    "    while True:\n",
    "        x = np.zeros((batch_size, SEQUENCE_LEN, input_dim), dtype=np.float64)\n",
    "        y = np.zeros((batch_size, input_dim), dtype=np.float64)\n",
    "        for i in range(batch_size):\n",
    "            for t, tpc in enumerate(moveset_list[index % len(moveset_list)]):\n",
    "                x[i, t, :] = tpc\n",
    "            y[i, :] = next_moveset_list[index % len(moveset_list)]\n",
    "            index = index + 1\n",
    "        yield x, y\n",
    "\n",
    "\n",
    "def get_model(dropout=0.5):\n",
    "    \"Constructs an LSTM model and adds different layers to it\"\n",
    "    print('Build model...')\n",
    "    model = Sequential()\n",
    "    # model.add(Embedding(input_dim=input_dim, output_dim=128))\n",
    "    # model.add(Bidirectional(LSTM(150)))\n",
    "    model.add(Bidirectional(LSTM(100, activation=\"relu\"), input_shape=(SEQUENCE_LEN, input_dim)))  # , activation=\"relu\"\n",
    "    if dropout > 0:\n",
    "        model.add(Dropout(dropout))\n",
    "    model.add(Dense(input_dim))\n",
    "    # model.add(Activation('softmax'))\n",
    "    return model\n",
    "\n",
    "def on_epoch_end(epoch, logs):\n",
    "    # Function invoked at end of each epoch. Prints generated text.\n",
    "    examples_file.write('\\n----- Generating move after Epoch: %d\\n' % epoch)\n",
    "\n",
    "    # Randomly pick a seed sequence\n",
    "    seed_index = np.random.randint(len(movesets_train + movesets_test))\n",
    "    seed = (movesets_train + movesets_test)[seed_index]\n",
    "\n",
    "    moveset = seed\n",
    "    # examples_file = moveset.tolist()\n",
    "    examples_file.write('----- Generating with seed:\\n\"' + ' ' + str(moveset) + '\"\\n')\n",
    "    for i in range(5):\n",
    "        x_pred = np.zeros((1, SEQUENCE_LEN, input_dim))\n",
    "        for t, top in enumerate(moveset):\n",
    "            x_pred[0, t, :] = top\n",
    "\n",
    "        preds = model.predict(x_pred, verbose=0)[0]\n",
    "\n",
    "        moveset = moveset[1:]\n",
    "        moveset = np.vstack([moveset, preds])\n",
    "\n",
    "        # examples_file.append(preds.tolist())\n",
    "        # return examples_file\n",
    "        examples_file.write(\" \" + str(preds))\n",
    "        examples_file.write('\\n')\n",
    "    examples_file.write('=' * 80 + '\\n')\n",
    "    examples_file.flush()"
   ]
  },
  {
   "cell_type": "code",
   "execution_count": 13,
   "id": "fc8441d4-d637-4747-aadb-2add4ce470ad",
   "metadata": {
    "scrolled": true
   },
   "outputs": [
    {
     "name": "stdout",
     "output_type": "stream",
     "text": [
      "Build model...\n"
     ]
    },
    {
     "data": {
      "text/html": [
       "<pre style=\"white-space:pre;overflow-x:auto;line-height:normal;font-family:Menlo,'DejaVu Sans Mono',consolas,'Courier New',monospace\"><span style=\"font-weight: bold\">Model: \"sequential_1\"</span>\n",
       "</pre>\n"
      ],
      "text/plain": [
       "\u001b[1mModel: \"sequential_1\"\u001b[0m\n"
      ]
     },
     "metadata": {},
     "output_type": "display_data"
    },
    {
     "data": {
      "text/html": [
       "<pre style=\"white-space:pre;overflow-x:auto;line-height:normal;font-family:Menlo,'DejaVu Sans Mono',consolas,'Courier New',monospace\">┏━━━━━━━━━━━━━━━━━━━━━━━━━━━━━━━━━┳━━━━━━━━━━━━━━━━━━━━━━━━┳━━━━━━━━━━━━━━━┓\n",
       "┃<span style=\"font-weight: bold\"> Layer (type)                    </span>┃<span style=\"font-weight: bold\"> Output Shape           </span>┃<span style=\"font-weight: bold\">       Param # </span>┃\n",
       "┡━━━━━━━━━━━━━━━━━━━━━━━━━━━━━━━━━╇━━━━━━━━━━━━━━━━━━━━━━━━╇━━━━━━━━━━━━━━━┩\n",
       "│ bidirectional_1 (<span style=\"color: #0087ff; text-decoration-color: #0087ff\">Bidirectional</span>) │ (<span style=\"color: #00d7ff; text-decoration-color: #00d7ff\">None</span>, <span style=\"color: #00af00; text-decoration-color: #00af00\">200</span>)            │        <span style=\"color: #00af00; text-decoration-color: #00af00\">82,400</span> │\n",
       "├─────────────────────────────────┼────────────────────────┼───────────────┤\n",
       "│ dropout_1 (<span style=\"color: #0087ff; text-decoration-color: #0087ff\">Dropout</span>)             │ (<span style=\"color: #00d7ff; text-decoration-color: #00d7ff\">None</span>, <span style=\"color: #00af00; text-decoration-color: #00af00\">200</span>)            │             <span style=\"color: #00af00; text-decoration-color: #00af00\">0</span> │\n",
       "├─────────────────────────────────┼────────────────────────┼───────────────┤\n",
       "│ dense_1 (<span style=\"color: #0087ff; text-decoration-color: #0087ff\">Dense</span>)                 │ (<span style=\"color: #00d7ff; text-decoration-color: #00d7ff\">None</span>, <span style=\"color: #00af00; text-decoration-color: #00af00\">2</span>)              │           <span style=\"color: #00af00; text-decoration-color: #00af00\">402</span> │\n",
       "└─────────────────────────────────┴────────────────────────┴───────────────┘\n",
       "</pre>\n"
      ],
      "text/plain": [
       "┏━━━━━━━━━━━━━━━━━━━━━━━━━━━━━━━━━┳━━━━━━━━━━━━━━━━━━━━━━━━┳━━━━━━━━━━━━━━━┓\n",
       "┃\u001b[1m \u001b[0m\u001b[1mLayer (type)                   \u001b[0m\u001b[1m \u001b[0m┃\u001b[1m \u001b[0m\u001b[1mOutput Shape          \u001b[0m\u001b[1m \u001b[0m┃\u001b[1m \u001b[0m\u001b[1m      Param #\u001b[0m\u001b[1m \u001b[0m┃\n",
       "┡━━━━━━━━━━━━━━━━━━━━━━━━━━━━━━━━━╇━━━━━━━━━━━━━━━━━━━━━━━━╇━━━━━━━━━━━━━━━┩\n",
       "│ bidirectional_1 (\u001b[38;5;33mBidirectional\u001b[0m) │ (\u001b[38;5;45mNone\u001b[0m, \u001b[38;5;34m200\u001b[0m)            │        \u001b[38;5;34m82,400\u001b[0m │\n",
       "├─────────────────────────────────┼────────────────────────┼───────────────┤\n",
       "│ dropout_1 (\u001b[38;5;33mDropout\u001b[0m)             │ (\u001b[38;5;45mNone\u001b[0m, \u001b[38;5;34m200\u001b[0m)            │             \u001b[38;5;34m0\u001b[0m │\n",
       "├─────────────────────────────────┼────────────────────────┼───────────────┤\n",
       "│ dense_1 (\u001b[38;5;33mDense\u001b[0m)                 │ (\u001b[38;5;45mNone\u001b[0m, \u001b[38;5;34m2\u001b[0m)              │           \u001b[38;5;34m402\u001b[0m │\n",
       "└─────────────────────────────────┴────────────────────────┴───────────────┘\n"
      ]
     },
     "metadata": {},
     "output_type": "display_data"
    },
    {
     "data": {
      "text/html": [
       "<pre style=\"white-space:pre;overflow-x:auto;line-height:normal;font-family:Menlo,'DejaVu Sans Mono',consolas,'Courier New',monospace\"><span style=\"font-weight: bold\"> Total params: </span><span style=\"color: #00af00; text-decoration-color: #00af00\">82,802</span> (323.45 KB)\n",
       "</pre>\n"
      ],
      "text/plain": [
       "\u001b[1m Total params: \u001b[0m\u001b[38;5;34m82,802\u001b[0m (323.45 KB)\n"
      ]
     },
     "metadata": {},
     "output_type": "display_data"
    },
    {
     "data": {
      "text/html": [
       "<pre style=\"white-space:pre;overflow-x:auto;line-height:normal;font-family:Menlo,'DejaVu Sans Mono',consolas,'Courier New',monospace\"><span style=\"font-weight: bold\"> Trainable params: </span><span style=\"color: #00af00; text-decoration-color: #00af00\">82,802</span> (323.45 KB)\n",
       "</pre>\n"
      ],
      "text/plain": [
       "\u001b[1m Trainable params: \u001b[0m\u001b[38;5;34m82,802\u001b[0m (323.45 KB)\n"
      ]
     },
     "metadata": {},
     "output_type": "display_data"
    },
    {
     "data": {
      "text/html": [
       "<pre style=\"white-space:pre;overflow-x:auto;line-height:normal;font-family:Menlo,'DejaVu Sans Mono',consolas,'Courier New',monospace\"><span style=\"font-weight: bold\"> Non-trainable params: </span><span style=\"color: #00af00; text-decoration-color: #00af00\">0</span> (0.00 B)\n",
       "</pre>\n"
      ],
      "text/plain": [
       "\u001b[1m Non-trainable params: \u001b[0m\u001b[38;5;34m0\u001b[0m (0.00 B)\n"
      ]
     },
     "metadata": {},
     "output_type": "display_data"
    },
    {
     "name": "stdout",
     "output_type": "stream",
     "text": [
      "None\n"
     ]
    }
   ],
   "source": [
    "if not os.path.isdir('./checkpoints/'):\n",
    "    os.makedirs('./checkpoints/')\n",
    "\n",
    "model = get_model()\n",
    "print(model.summary())\n",
    "model.compile(loss='mean_squared_error', optimizer=\"adam\",\n",
    "              metrics=['accuracy'])  # categorical_crossentropy , mean_squared_error, logcosh\n",
    "''' categorical_cross_entropy'''\n",
    "file_path = \"./checkpoints/LSTM_LDA-epoch{epoch:03d}-movess%d-sequence%d-\" \\\n",
    "            \"loss{loss:.4f}-acc{accuracy:.4f}-val_loss{val_loss:.4f}-val_acc{val_accuracy:.4f}.keras\" % \\\n",
    "            (SEQUENCE_LEN, SEQUENCE_LEN)\n",
    "\n",
    "checkpoint = ModelCheckpoint(file_path, monitor='val_accuracy', save_best_only=True)\n",
    "print_callback = LambdaCallback(on_epoch_end=on_epoch_end)\n",
    "early_stopping = EarlyStopping(monitor='val_accuracy', patience=20)\n",
    "callbacks_list = [checkpoint, print_callback, early_stopping]"
   ]
  },
  {
   "cell_type": "code",
   "execution_count": 14,
   "id": "be27cbc8-431e-4ccc-a09a-241411c337d8",
   "metadata": {
    "scrolled": true
   },
   "outputs": [
    {
     "name": "stdout",
     "output_type": "stream",
     "text": [
      "34635\n",
      "---\n",
      "['82861', ' 148330']\n",
      "34278\n",
      "[['83384', ' 147942'], ['83384', ' 147942'], ['83384', ' 147942']]\n"
     ]
    }
   ],
   "source": [
    "print(len(movesets))\n",
    "print('---')\n",
    "print(next_movesets[0])\n",
    "cut_index = int((len(movesets)-10) * (1.-(1/100.)))\n",
    "print(cut_index)\n",
    "movesets_train, movesets_test = movesets[:cut_index], movesets[cut_index:]\n",
    "next_movesets_train, next_movesets_test = next_movesets[:cut_index], next_movesets[cut_index:]\n",
    "\n",
    "# Print the train set\n",
    "print(movesets_train[0])"
   ]
  },
  {
   "cell_type": "code",
   "execution_count": 15,
   "id": "6a78bad3-3f60-433a-b007-9d2bf813847c",
   "metadata": {
    "scrolled": true
   },
   "outputs": [
    {
     "name": "stdout",
     "output_type": "stream",
     "text": [
      "Epoch 1/100\n",
      "\u001b[1m1072/1072\u001b[0m \u001b[32m━━━━━━━━━━━━━━━━━━━━\u001b[0m\u001b[37m\u001b[0m \u001b[1m9s\u001b[0m 6ms/step - accuracy: 0.8895 - loss: 3134076928.0000 - val_accuracy: 1.0000 - val_loss: 92002752.0000\n",
      "Epoch 2/100\n",
      "\u001b[1m1072/1072\u001b[0m \u001b[32m━━━━━━━━━━━━━━━━━━━━\u001b[0m\u001b[37m\u001b[0m \u001b[1m5s\u001b[0m 5ms/step - accuracy: 0.9976 - loss: 683861248.0000 - val_accuracy: 1.0000 - val_loss: 76691288.0000\n",
      "Epoch 3/100\n",
      "\u001b[1m1072/1072\u001b[0m \u001b[32m━━━━━━━━━━━━━━━━━━━━\u001b[0m\u001b[37m\u001b[0m \u001b[1m5s\u001b[0m 5ms/step - accuracy: 0.9959 - loss: 605782976.0000 - val_accuracy: 1.0000 - val_loss: 18759622.0000\n",
      "Epoch 4/100\n",
      "\u001b[1m1072/1072\u001b[0m \u001b[32m━━━━━━━━━━━━━━━━━━━━\u001b[0m\u001b[37m\u001b[0m \u001b[1m5s\u001b[0m 5ms/step - accuracy: 0.9971 - loss: 615194560.0000 - val_accuracy: 1.0000 - val_loss: 236801040.0000\n",
      "Epoch 5/100\n",
      "\u001b[1m1072/1072\u001b[0m \u001b[32m━━━━━━━━━━━━━━━━━━━━\u001b[0m\u001b[37m\u001b[0m \u001b[1m5s\u001b[0m 5ms/step - accuracy: 0.9986 - loss: 623276160.0000 - val_accuracy: 1.0000 - val_loss: 52008508.0000\n",
      "Epoch 6/100\n",
      "\u001b[1m1072/1072\u001b[0m \u001b[32m━━━━━━━━━━━━━━━━━━━━\u001b[0m\u001b[37m\u001b[0m \u001b[1m5s\u001b[0m 5ms/step - accuracy: 0.9976 - loss: 584342976.0000 - val_accuracy: 1.0000 - val_loss: 245326784.0000\n",
      "Epoch 7/100\n",
      "\u001b[1m1072/1072\u001b[0m \u001b[32m━━━━━━━━━━━━━━━━━━━━\u001b[0m\u001b[37m\u001b[0m \u001b[1m5s\u001b[0m 5ms/step - accuracy: 0.9971 - loss: 604474176.0000 - val_accuracy: 1.0000 - val_loss: 46323076.0000\n",
      "Epoch 8/100\n",
      "\u001b[1m1072/1072\u001b[0m \u001b[32m━━━━━━━━━━━━━━━━━━━━\u001b[0m\u001b[37m\u001b[0m \u001b[1m5s\u001b[0m 5ms/step - accuracy: 0.9943 - loss: 624156928.0000 - val_accuracy: 1.0000 - val_loss: 127620808.0000\n",
      "Epoch 9/100\n",
      "\u001b[1m1072/1072\u001b[0m \u001b[32m━━━━━━━━━━━━━━━━━━━━\u001b[0m\u001b[37m\u001b[0m \u001b[1m5s\u001b[0m 5ms/step - accuracy: 0.9973 - loss: 604071232.0000 - val_accuracy: 1.0000 - val_loss: 41056940.0000\n",
      "Epoch 10/100\n",
      "\u001b[1m1072/1072\u001b[0m \u001b[32m━━━━━━━━━━━━━━━━━━━━\u001b[0m\u001b[37m\u001b[0m \u001b[1m5s\u001b[0m 5ms/step - accuracy: 0.9973 - loss: 596267200.0000 - val_accuracy: 1.0000 - val_loss: 9898781.0000\n",
      "Epoch 11/100\n",
      "\u001b[1m1072/1072\u001b[0m \u001b[32m━━━━━━━━━━━━━━━━━━━━\u001b[0m\u001b[37m\u001b[0m \u001b[1m5s\u001b[0m 5ms/step - accuracy: 0.9970 - loss: 564698176.0000 - val_accuracy: 1.0000 - val_loss: 24420070.0000\n",
      "Epoch 12/100\n",
      "\u001b[1m1072/1072\u001b[0m \u001b[32m━━━━━━━━━━━━━━━━━━━━\u001b[0m\u001b[37m\u001b[0m \u001b[1m5s\u001b[0m 5ms/step - accuracy: 0.9962 - loss: 552445376.0000 - val_accuracy: 1.0000 - val_loss: 44092980.0000\n",
      "Epoch 13/100\n",
      "\u001b[1m1072/1072\u001b[0m \u001b[32m━━━━━━━━━━━━━━━━━━━━\u001b[0m\u001b[37m\u001b[0m \u001b[1m5s\u001b[0m 5ms/step - accuracy: 0.9947 - loss: 587715904.0000 - val_accuracy: 1.0000 - val_loss: 45567412.0000\n",
      "Epoch 14/100\n",
      "\u001b[1m1072/1072\u001b[0m \u001b[32m━━━━━━━━━━━━━━━━━━━━\u001b[0m\u001b[37m\u001b[0m \u001b[1m5s\u001b[0m 5ms/step - accuracy: 0.9963 - loss: 568119232.0000 - val_accuracy: 1.0000 - val_loss: 101076960.0000\n",
      "Epoch 15/100\n",
      "\u001b[1m1072/1072\u001b[0m \u001b[32m━━━━━━━━━━━━━━━━━━━━\u001b[0m\u001b[37m\u001b[0m \u001b[1m5s\u001b[0m 5ms/step - accuracy: 0.9950 - loss: 588493952.0000 - val_accuracy: 1.0000 - val_loss: 26512738.0000\n",
      "Epoch 16/100\n",
      "\u001b[1m1072/1072\u001b[0m \u001b[32m━━━━━━━━━━━━━━━━━━━━\u001b[0m\u001b[37m\u001b[0m \u001b[1m5s\u001b[0m 5ms/step - accuracy: 0.9943 - loss: 573466432.0000 - val_accuracy: 1.0000 - val_loss: 103809824.0000\n",
      "Epoch 17/100\n",
      "\u001b[1m1072/1072\u001b[0m \u001b[32m━━━━━━━━━━━━━━━━━━━━\u001b[0m\u001b[37m\u001b[0m \u001b[1m5s\u001b[0m 5ms/step - accuracy: 0.9959 - loss: 583499136.0000 - val_accuracy: 1.0000 - val_loss: 63820820.0000\n",
      "Epoch 18/100\n",
      "\u001b[1m1072/1072\u001b[0m \u001b[32m━━━━━━━━━━━━━━━━━━━━\u001b[0m\u001b[37m\u001b[0m \u001b[1m5s\u001b[0m 5ms/step - accuracy: 0.9940 - loss: 593395904.0000 - val_accuracy: 1.0000 - val_loss: 81339448.0000\n",
      "Epoch 19/100\n",
      "\u001b[1m1072/1072\u001b[0m \u001b[32m━━━━━━━━━━━━━━━━━━━━\u001b[0m\u001b[37m\u001b[0m \u001b[1m5s\u001b[0m 5ms/step - accuracy: 0.9944 - loss: 605429376.0000 - val_accuracy: 1.0000 - val_loss: 143239760.0000\n",
      "Epoch 20/100\n",
      "\u001b[1m1072/1072\u001b[0m \u001b[32m━━━━━━━━━━━━━━━━━━━━\u001b[0m\u001b[37m\u001b[0m \u001b[1m5s\u001b[0m 5ms/step - accuracy: 0.9936 - loss: 605080640.0000 - val_accuracy: 1.0000 - val_loss: 30123690.0000\n",
      "Epoch 21/100\n",
      "\u001b[1m1072/1072\u001b[0m \u001b[32m━━━━━━━━━━━━━━━━━━━━\u001b[0m\u001b[37m\u001b[0m \u001b[1m5s\u001b[0m 5ms/step - accuracy: 0.9957 - loss: 602839936.0000 - val_accuracy: 1.0000 - val_loss: 103233016.0000\n"
     ]
    }
   ],
   "source": [
    "BATCH_SIZE=32\n",
    "examples = 'examples_move_vector.txt'\n",
    "examples_file = open(examples, \"w\")\n",
    "# examples_file = []\n",
    "history = model.fit(generator(movesets_train, next_movesets_train, BATCH_SIZE),\n",
    "                              steps_per_epoch=int(len(movesets_train) / BATCH_SIZE) + 1,\n",
    "                              epochs=100,\n",
    "                              callbacks=callbacks_list,\n",
    "                              validation_data=generator(movesets_test, next_movesets_test, BATCH_SIZE),\n",
    "                              validation_steps=int(len(movesets_test) / BATCH_SIZE) + 1)"
   ]
  },
  {
   "cell_type": "code",
   "execution_count": null,
   "id": "62f7504c-68c3-407d-91f4-7cc6eb87497d",
   "metadata": {},
   "outputs": [],
   "source": []
  },
  {
   "cell_type": "code",
   "execution_count": 24,
   "id": "da56dcda-fbb2-4564-9178-edcd3d79f7ad",
   "metadata": {},
   "outputs": [
    {
     "name": "stdout",
     "output_type": "stream",
     "text": [
      "        PREDICT                   ACTUAL\n",
      "move 1 [ 85941.016 132009.2  ] ['82861', ' 148330']\n",
      "move 2 [ 85845.72 132180.05] ['82801', ' 149368']\n",
      "move 3 [ 85836.29 132635.95] ['81572', ' 149466']\n",
      "move 4 [ 85384.33 133029.98] ['81331', ' 149685']\n",
      "move 5 [ 84900.375 133140.39 ] ['81331', ' 149685']\n",
      "move 6 [ 26151.623 164524.36 ] ['20467', ' 187061']\n",
      "move 7 [ 25944.8 163758.3] ['19703', ' 185483']\n",
      "move 8 [ 25547.104 162507.28 ] ['20896', ' 184693']\n",
      "move 9 [ 25667.293 161352.3  ] ['20896', ' 184693']\n",
      "move 10 [117203.83 193819.92] ['111364', ' 219123']\n",
      "move 11 [117162.38 193727.06] ['110271', ' 219030']\n",
      "move 12 [116812.2 193655.7] ['110075', ' 218989']\n",
      "move 13 [116416.46 193444.73] ['110080', ' 217990']\n",
      "move 14 [115993.15 192958.42] ['110032', ' 217279']\n",
      "move 15 [115801.56 192388.67] ['108880', ' 217539']\n",
      "move 16 [115522.29 192184.67] ['107862', ' 217546']\n",
      "move 17 [114909.22 192039.25] ['107123', ' 218150']\n",
      "move 18 [114223.25 192170.61] ['107122', ' 217833']\n",
      "move 19 [113764.64 192081.23] ['107110', ' 217123']\n",
      "move 20 [113459.62 191770.28] ['107110', ' 217123']\n"
     ]
    }
   ],
   "source": [
    "#### EVALUATE\n",
    "#### Predict moves and compare to actual moves\n",
    "print('   ','   ',\"PREDICT\",'                 ',\"ACTUAL\")\n",
    "for idx,moveset in enumerate(movesets[:20]):\n",
    "    x_pred = np.zeros((1, SEQUENCE_LEN, input_dim))\n",
    "    for t, top in enumerate(moveset):\n",
    "        x_pred[0, t, :] = top\n",
    "    \"predict the next move\"\n",
    "    preds = model.predict(x_pred, verbose=0)[0]    \n",
    "    print('move',idx+1,preds,next_movesets[idx])"
   ]
  },
  {
   "cell_type": "code",
   "execution_count": null,
   "id": "4afdefdc-1af1-4b34-bd88-c3427e708a56",
   "metadata": {
    "scrolled": true
   },
   "outputs": [],
   "source": []
  },
  {
   "cell_type": "code",
   "execution_count": null,
   "id": "4f38e7ec-4141-4758-8862-4015becc2dbb",
   "metadata": {},
   "outputs": [],
   "source": []
  },
  {
   "cell_type": "code",
   "execution_count": null,
   "id": "ab6c2959-be51-406d-b7c8-4be83e2d3fbb",
   "metadata": {},
   "outputs": [],
   "source": []
  },
  {
   "cell_type": "code",
   "execution_count": null,
   "id": "9de57428-29ac-4b86-a157-80d85f884da9",
   "metadata": {},
   "outputs": [],
   "source": []
  },
  {
   "cell_type": "code",
   "execution_count": null,
   "id": "1ac38f6d-3982-475e-8dcc-cfc033f248f9",
   "metadata": {},
   "outputs": [],
   "source": []
  },
  {
   "cell_type": "code",
   "execution_count": null,
   "id": "78aac52a-2f62-429c-b879-6ccbb9ae853c",
   "metadata": {},
   "outputs": [],
   "source": []
  },
  {
   "cell_type": "code",
   "execution_count": null,
   "id": "38fe6daa-83bf-49f6-b7b0-5846a75d1f5e",
   "metadata": {},
   "outputs": [],
   "source": []
  }
 ],
 "metadata": {
  "kernelspec": {
   "display_name": "Python 3 (ipykernel)",
   "language": "python",
   "name": "python3"
  },
  "language_info": {
   "codemirror_mode": {
    "name": "ipython",
    "version": 3
   },
   "file_extension": ".py",
   "mimetype": "text/x-python",
   "name": "python",
   "nbconvert_exporter": "python",
   "pygments_lexer": "ipython3",
   "version": "3.9.20"
  }
 },
 "nbformat": 4,
 "nbformat_minor": 5
}
